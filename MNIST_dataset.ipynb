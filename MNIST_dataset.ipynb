{
  "nbformat": 4,
  "nbformat_minor": 0,
  "metadata": {
    "colab": {
      "name": "MNIST_dataset.ipynb",
      "version": "0.3.2",
      "provenance": []
    },
    "kernelspec": {
      "name": "python3",
      "display_name": "Python 3"
    },
    "accelerator": "GPU"
  },
  "cells": [
    {
      "metadata": {
        "id": "0IKKHVy1xMqo",
        "colab_type": "code",
        "colab": {
          "base_uri": "https://localhost:8080/",
          "height": 176
        },
        "outputId": "85630725-a590-4000-b45b-a0b8adb42597"
      },
      "cell_type": "code",
      "source": [
        "from keras.datasets import fashion_mnist\n",
        "(X_train, y_train), (X_test, y_test) = fashion_mnist.load_data()\n",
        "import numpy as np\n",
        "from keras.utils import to_categorical\n",
        "import matplotlib.pyplot as plt\n",
        "%matplotlib inline"
      ],
      "execution_count": 1,
      "outputs": [
        {
          "output_type": "stream",
          "text": [
            "Using TensorFlow backend.\n"
          ],
          "name": "stderr"
        },
        {
          "output_type": "stream",
          "text": [
            "Downloading data from http://fashion-mnist.s3-website.eu-central-1.amazonaws.com/train-labels-idx1-ubyte.gz\n",
            "32768/29515 [=================================] - 0s 0us/step\n",
            "Downloading data from http://fashion-mnist.s3-website.eu-central-1.amazonaws.com/train-images-idx3-ubyte.gz\n",
            "26427392/26421880 [==============================] - 0s 0us/step\n",
            "Downloading data from http://fashion-mnist.s3-website.eu-central-1.amazonaws.com/t10k-labels-idx1-ubyte.gz\n",
            "8192/5148 [===============================================] - 0s 0us/step\n",
            "Downloading data from http://fashion-mnist.s3-website.eu-central-1.amazonaws.com/t10k-images-idx3-ubyte.gz\n",
            "4423680/4422102 [==============================] - 0s 0us/step\n"
          ],
          "name": "stdout"
        }
      ]
    },
    {
      "metadata": {
        "id": "nTZBd4DixMrK",
        "colab_type": "code",
        "colab": {
          "base_uri": "https://localhost:8080/",
          "height": 207
        },
        "outputId": "1d433eb0-b1cb-4dd6-e1d8-86029b1bbb60"
      },
      "cell_type": "code",
      "source": [
        "plt.figure(figsize=[5,5])\n",
        "\n",
        "# Display the first image in training data\n",
        "plt.subplot(121)\n",
        "plt.imshow(X_train[0,:,:], cmap='rainbow')\n",
        "plt.title(\"Ground Truth : {}\".format(y_train[0]))\n",
        "\n",
        "# Display the first image in testing data\n",
        "plt.subplot(122)\n",
        "plt.imshow(X_test[0,:,:], cmap='rainbow')\n",
        "plt.title(\"Ground Truth : {}\".format(y_test[0]))"
      ],
      "execution_count": 2,
      "outputs": [
        {
          "output_type": "execute_result",
          "data": {
            "text/plain": [
              "Text(0.5, 1.0, 'Ground Truth : 9')"
            ]
          },
          "metadata": {
            "tags": []
          },
          "execution_count": 2
        },
        {
          "output_type": "display_data",
          "data": {
            "image/png": "[encoded data removed]",
            "text/plain": [
              "<Figure size 360x360 with 2 Axes>"
            ]
          },
          "metadata": {
            "tags": []
          }
        }
      ]
    },
    {
      "metadata": {
        "id": "BL4D3bNHxMre",
        "colab_type": "code",
        "colab": {
          "base_uri": "https://localhost:8080/",
          "height": 34
        },
        "outputId": "ca048f99-5b3c-4c6b-a008-7ace626f7025"
      },
      "cell_type": "code",
      "source": [
        "print(X_train.shape)"
      ],
      "execution_count": 3,
      "outputs": [
        {
          "output_type": "stream",
          "text": [
            "(60000, 28, 28)\n"
          ],
          "name": "stdout"
        }
      ]
    },
    {
      "metadata": {
        "id": "XOZegIGwxMrw",
        "colab_type": "code",
        "colab": {
          "base_uri": "https://localhost:8080/",
          "height": 34
        },
        "outputId": "383efc7e-efa2-47d4-f747-8994e8767fa8"
      },
      "cell_type": "code",
      "source": [
        "X_train = X_train.reshape(-1, 28,28, 1)\n",
        "X_test = X_test.reshape(-1, 28,28, 1)\n",
        "X_train.shape, X_test.shape"
      ],
      "execution_count": 4,
      "outputs": [
        {
          "output_type": "execute_result",
          "data": {
            "text/plain": [
              "((60000, 28, 28, 1), (10000, 28, 28, 1))"
            ]
          },
          "metadata": {
            "tags": []
          },
          "execution_count": 4
        }
      ]
    },
    {
      "metadata": {
        "id": "yJd0RpHvxMsS",
        "colab_type": "code",
        "colab": {}
      },
      "cell_type": "code",
      "source": [
        "X_train = X_train.astype('float32')\n",
        "X_test = X_test.astype('float32')\n",
        "X_train = X_train / 255.\n",
        "X_test = X_test / 255."
      ],
      "execution_count": 0,
      "outputs": []
    },
    {
      "metadata": {
        "id": "-yPx5tj5xMsx",
        "colab_type": "code",
        "colab": {
          "base_uri": "https://localhost:8080/",
          "height": 52
        },
        "outputId": "95e17dff-f746-4a77-b9ee-f5a354d8192d"
      },
      "cell_type": "code",
      "source": [
        "y_train_one_hot = to_categorical(y_train)\n",
        "y_test_one_hot = to_categorical(y_test)\n",
        "\n",
        "\n",
        "print('Original label:', y_train[0])\n",
        "print('After conversion to one-hot:', y_train_one_hot[0])"
      ],
      "execution_count": 6,
      "outputs": [
        {
          "output_type": "stream",
          "text": [
            "Original label: 9\n",
            "After conversion to one-hot: [0. 0. 0. 0. 0. 0. 0. 0. 0. 1.]\n"
          ],
          "name": "stdout"
        }
      ]
    },
    {
      "metadata": {
        "id": "hqcqJF44xMtT",
        "colab_type": "code",
        "colab": {}
      },
      "cell_type": "code",
      "source": [
        "from sklearn.model_selection import train_test_split\n",
        "X_train,valid_X,train_label,valid_label = train_test_split(X_train, y_train_one_hot, test_size=0.2, random_state=13)"
      ],
      "execution_count": 0,
      "outputs": []
    },
    {
      "metadata": {
        "id": "V4E5NfGHxMto",
        "colab_type": "code",
        "colab": {
          "base_uri": "https://localhost:8080/",
          "height": 34
        },
        "outputId": "a694973c-2fb8-4041-d7af-2cbe9a00431f"
      },
      "cell_type": "code",
      "source": [
        "X_train.shape,valid_X.shape,train_label.shape,valid_label.shape"
      ],
      "execution_count": 9,
      "outputs": [
        {
          "output_type": "execute_result",
          "data": {
            "text/plain": [
              "((48000, 28, 28, 1), (12000, 28, 28, 1), (48000, 10), (12000, 10))"
            ]
          },
          "metadata": {
            "tags": []
          },
          "execution_count": 9
        }
      ]
    },
    {
      "metadata": {
        "id": "NsE5FHIuxMuI",
        "colab_type": "code",
        "colab": {}
      },
      "cell_type": "code",
      "source": [
        "import keras\n",
        "from keras.models import Sequential,Input,Model\n",
        "from keras.layers import Dense, Dropout, Flatten\n",
        "from keras.layers import Conv2D, MaxPooling2D\n",
        "from keras.layers.normalization import BatchNormalization\n",
        "from keras.layers.advanced_activations import LeakyReLU"
      ],
      "execution_count": 0,
      "outputs": []
    },
    {
      "metadata": {
        "id": "RgOWAp4LxMuh",
        "colab_type": "code",
        "colab": {}
      },
      "cell_type": "code",
      "source": [
        "batch_size = 64\n",
        "epochs = 20\n",
        "num_classes = 10"
      ],
      "execution_count": 0,
      "outputs": []
    },
    {
      "metadata": {
        "id": "tAgsVzbExMu2",
        "colab_type": "code",
        "colab": {
          "base_uri": "https://localhost:8080/",
          "height": 90
        },
        "outputId": "6faf3904-8634-4c58-dba8-003ba6622913"
      },
      "cell_type": "code",
      "source": [
        "fashion_model = Sequential()\n",
        "fashion_model.add(Conv2D(32, kernel_size=(3, 3),activation='linear',input_shape=(28,28,1),padding='same'))\n",
        "fashion_model.add(LeakyReLU(alpha=0.1))\n",
        "fashion_model.add(MaxPooling2D((2, 2),padding='same'))\n",
        "fashion_model.add(Conv2D(64, (3, 3), activation='linear',padding='same'))\n",
        "fashion_model.add(LeakyReLU(alpha=0.1))\n",
        "fashion_model.add(MaxPooling2D(pool_size=(2, 2),padding='same'))\n",
        "fashion_model.add(Conv2D(128, (3, 3), activation='linear',padding='same'))\n",
        "fashion_model.add(LeakyReLU(alpha=0.1))                  \n",
        "fashion_model.add(MaxPooling2D(pool_size=(2, 2),padding='same'))\n",
        "fashion_model.add(Flatten())\n",
        "fashion_model.add(Dense(128, activation='linear'))\n",
        "fashion_model.add(LeakyReLU(alpha=0.1))                  \n",
        "fashion_model.add(Dense(num_classes, activation='softmax'))"
      ],
      "execution_count": 11,
      "outputs": [
        {
          "output_type": "stream",
          "text": [
            "WARNING:tensorflow:From /usr/local/lib/python3.6/dist-packages/tensorflow/python/framework/op_def_library.py:263: colocate_with (from tensorflow.python.framework.ops) is deprecated and will be removed in a future version.\n",
            "Instructions for updating:\n",
            "Colocations handled automatically by placer.\n"
          ],
          "name": "stdout"
        }
      ]
    },
    {
      "metadata": {
        "id": "-1uZ9yhQxMvP",
        "colab_type": "code",
        "colab": {
          "base_uri": "https://localhost:8080/",
          "height": 603
        },
        "outputId": "5fcb70c7-0079-4f59-a40e-6cba5468947a"
      },
      "cell_type": "code",
      "source": [
        "fashion_model.compile(loss=keras.losses.categorical_crossentropy, optimizer=keras.optimizers.Adam(),metrics=['accuracy'])\n",
        "fashion_model.summary()"
      ],
      "execution_count": 12,
      "outputs": [
        {
          "output_type": "stream",
          "text": [
            "_________________________________________________________________\n",
            "Layer (type)                 Output Shape              Param #   \n",
            "=================================================================\n",
            "conv2d_1 (Conv2D)            (None, 28, 28, 32)        320       \n",
            "_________________________________________________________________\n",
            "leaky_re_lu_1 (LeakyReLU)    (None, 28, 28, 32)        0         \n",
            "_________________________________________________________________\n",
            "max_pooling2d_1 (MaxPooling2 (None, 14, 14, 32)        0         \n",
            "_________________________________________________________________\n",
            "conv2d_2 (Conv2D)            (None, 14, 14, 64)        18496     \n",
            "_________________________________________________________________\n",
            "leaky_re_lu_2 (LeakyReLU)    (None, 14, 14, 64)        0         \n",
            "_________________________________________________________________\n",
            "max_pooling2d_2 (MaxPooling2 (None, 7, 7, 64)          0         \n",
            "_________________________________________________________________\n",
            "conv2d_3 (Conv2D)            (None, 7, 7, 128)         73856     \n",
            "_________________________________________________________________\n",
            "leaky_re_lu_3 (LeakyReLU)    (None, 7, 7, 128)         0         \n",
            "_________________________________________________________________\n",
            "max_pooling2d_3 (MaxPooling2 (None, 4, 4, 128)         0         \n",
            "_________________________________________________________________\n",
            "flatten_1 (Flatten)          (None, 2048)              0         \n",
            "_________________________________________________________________\n",
            "dense_1 (Dense)              (None, 128)               262272    \n",
            "_________________________________________________________________\n",
            "leaky_re_lu_4 (LeakyReLU)    (None, 128)               0         \n",
            "_________________________________________________________________\n",
            "dense_2 (Dense)              (None, 10)                1290      \n",
            "=================================================================\n",
            "Total params: 356,234\n",
            "Trainable params: 356,234\n",
            "Non-trainable params: 0\n",
            "_________________________________________________________________\n"
          ],
          "name": "stdout"
        }
      ]
    },
    {
      "metadata": {
        "id": "CNsq03xjxMv2",
        "colab_type": "code",
        "colab": {
          "base_uri": "https://localhost:8080/",
          "height": 818
        },
        "outputId": "ca5bf5ee-a6f8-4a8c-c681-847a05b3f6a1"
      },
      "cell_type": "code",
      "source": [
        "fashion_train = fashion_model.fit(X_train, train_label, batch_size=batch_size,epochs=epochs,verbose=1,validation_data=(valid_X, valid_label))"
      ],
      "execution_count": 13,
      "outputs": [
        {
          "output_type": "stream",
          "text": [
            "WARNING:tensorflow:From /usr/local/lib/python3.6/dist-packages/tensorflow/python/ops/math_ops.py:3066: to_int32 (from tensorflow.python.ops.math_ops) is deprecated and will be removed in a future version.\n",
            "Instructions for updating:\n",
            "Use tf.cast instead.\n",
            "Train on 48000 samples, validate on 12000 samples\n",
            "Epoch 1/20\n",
            "48000/48000 [==============================] - 14s 293us/step - loss: 0.4598 - acc: 0.8320 - val_loss: 0.3402 - val_acc: 0.8756\n",
            "Epoch 2/20\n",
            "48000/48000 [==============================] - 9s 195us/step - loss: 0.2891 - acc: 0.8942 - val_loss: 0.2812 - val_acc: 0.9017\n",
            "Epoch 3/20\n",
            "48000/48000 [==============================] - 9s 190us/step - loss: 0.2425 - acc: 0.9096 - val_loss: 0.2389 - val_acc: 0.9149\n",
            "Epoch 4/20\n",
            "48000/48000 [==============================] - 9s 188us/step - loss: 0.2103 - acc: 0.9223 - val_loss: 0.2306 - val_acc: 0.9158\n",
            "Epoch 5/20\n",
            "48000/48000 [==============================] - 9s 188us/step - loss: 0.1838 - acc: 0.9315 - val_loss: 0.2292 - val_acc: 0.9180\n",
            "Epoch 6/20\n",
            "48000/48000 [==============================] - 9s 188us/step - loss: 0.1601 - acc: 0.9399 - val_loss: 0.2322 - val_acc: 0.9197\n",
            "Epoch 7/20\n",
            "48000/48000 [==============================] - 9s 185us/step - loss: 0.1420 - acc: 0.9463 - val_loss: 0.2255 - val_acc: 0.9208\n",
            "Epoch 8/20\n",
            "48000/48000 [==============================] - 9s 186us/step - loss: 0.1244 - acc: 0.9529 - val_loss: 0.2321 - val_acc: 0.9254\n",
            "Epoch 9/20\n",
            "48000/48000 [==============================] - 9s 186us/step - loss: 0.1067 - acc: 0.9602 - val_loss: 0.2356 - val_acc: 0.9233\n",
            "Epoch 10/20\n",
            "48000/48000 [==============================] - 9s 187us/step - loss: 0.0902 - acc: 0.9654 - val_loss: 0.2712 - val_acc: 0.9187\n",
            "Epoch 11/20\n",
            "48000/48000 [==============================] - 9s 186us/step - loss: 0.0781 - acc: 0.9703 - val_loss: 0.2803 - val_acc: 0.9204\n",
            "Epoch 12/20\n",
            "48000/48000 [==============================] - 9s 186us/step - loss: 0.0629 - acc: 0.9764 - val_loss: 0.2921 - val_acc: 0.9238\n",
            "Epoch 13/20\n",
            "48000/48000 [==============================] - 9s 185us/step - loss: 0.0567 - acc: 0.9785 - val_loss: 0.3570 - val_acc: 0.9113\n",
            "Epoch 14/20\n",
            "48000/48000 [==============================] - 9s 185us/step - loss: 0.0521 - acc: 0.9806 - val_loss: 0.3335 - val_acc: 0.9237\n",
            "Epoch 15/20\n",
            "48000/48000 [==============================] - 9s 184us/step - loss: 0.0440 - acc: 0.9830 - val_loss: 0.3624 - val_acc: 0.9199\n",
            "Epoch 16/20\n",
            "48000/48000 [==============================] - 9s 185us/step - loss: 0.0400 - acc: 0.9853 - val_loss: 0.3663 - val_acc: 0.9218\n",
            "Epoch 17/20\n",
            "48000/48000 [==============================] - 9s 185us/step - loss: 0.0374 - acc: 0.9861 - val_loss: 0.3687 - val_acc: 0.9174\n",
            "Epoch 18/20\n",
            "48000/48000 [==============================] - 9s 185us/step - loss: 0.0339 - acc: 0.9874 - val_loss: 0.3858 - val_acc: 0.9193\n",
            "Epoch 19/20\n",
            "48000/48000 [==============================] - 9s 185us/step - loss: 0.0284 - acc: 0.9897 - val_loss: 0.3893 - val_acc: 0.9191\n",
            "Epoch 20/20\n",
            "48000/48000 [==============================] - 9s 185us/step - loss: 0.0325 - acc: 0.9887 - val_loss: 0.4161 - val_acc: 0.9140\n"
          ],
          "name": "stdout"
        }
      ]
    },
    {
      "metadata": {
        "id": "VR5mb-WBxMwW",
        "colab_type": "code",
        "colab": {}
      },
      "cell_type": "code",
      "source": [
        "test_eval = fashion_model.evaluate(X_test, y_test_one_hot, verbose=0)"
      ],
      "execution_count": 0,
      "outputs": []
    },
    {
      "metadata": {
        "id": "6LSwBvHAxMw9",
        "colab_type": "code",
        "colab": {
          "base_uri": "https://localhost:8080/",
          "height": 52
        },
        "outputId": "6af04055-e399-4da4-b07f-c462cc48b2bf"
      },
      "cell_type": "code",
      "source": [
        "print('Test loss:', test_eval[0])\n",
        "print('Test accuracy:', test_eval[1])"
      ],
      "execution_count": 15,
      "outputs": [
        {
          "output_type": "stream",
          "text": [
            "Test loss: 0.4420124358639121\n",
            "Test accuracy: 0.91\n"
          ],
          "name": "stdout"
        }
      ]
    },
    {
      "metadata": {
        "id": "05J7h8SlxMxP",
        "colab_type": "code",
        "colab": {
          "base_uri": "https://localhost:8080/",
          "height": 543
        },
        "outputId": "77f9ac75-dd0b-4632-f3ea-b1b8f49c08be"
      },
      "cell_type": "code",
      "source": [
        "accuracy = fashion_train.history['acc']\n",
        "val_accuracy = fashion_train.history['val_acc']\n",
        "loss = fashion_train.history['loss']\n",
        "val_loss = fashion_train.history['val_loss']\n",
        "epochs = range(len(accuracy))\n",
        "plt.plot(epochs, accuracy, 'r', label='Training accuracy')\n",
        "plt.plot(epochs, val_accuracy, 'b', label='Validation accuracy')\n",
        "plt.title('Training and validation accuracy')\n",
        "plt.legend()\n",
        "plt.figure()\n",
        "plt.plot(epochs, loss, 'r', label='Training loss')\n",
        "plt.plot(epochs, val_loss, 'b', label='Validation loss')\n",
        "plt.title('Training and validation loss')\n",
        "plt.legend()\n",
        "plt.show()"
      ],
      "execution_count": 18,
      "outputs": [
        {
          "output_type": "display_data",
          "data": {
            "image/png": "[encoded data removed]",
            "text/plain": [
              "<Figure size 432x288 with 1 Axes>"
            ]
          },
          "metadata": {
            "tags": []
          }
        },
        {
          "output_type": "display_data",
          "data": {
            "image/png": "[encoded data removed]",
            "text/plain": [
              "<Figure size 432x288 with 1 Axes>"
            ]
          },
          "metadata": {
            "tags": []
          }
        }
      ]
    },
    {
      "metadata": {
        "id": "6dtm7B7YxMxh",
        "colab_type": "code",
        "colab": {
          "base_uri": "https://localhost:8080/",
          "height": 90
        },
        "outputId": "21009910-955c-4bf5-8b6e-39b595d22d2d"
      },
      "cell_type": "code",
      "source": [
        "batch_size = 64\n",
        "epochs = 20\n",
        "num_classes = 10\n",
        "fashion_model = Sequential()\n",
        "fashion_model.add(Conv2D(32, kernel_size=(3, 3),activation='linear',padding='same',input_shape=(28,28,1)))\n",
        "fashion_model.add(LeakyReLU(alpha=0.1))\n",
        "fashion_model.add(MaxPooling2D((2, 2),padding='same'))\n",
        "fashion_model.add(Dropout(0.25))\n",
        "fashion_model.add(Conv2D(64, (3, 3), activation='linear',padding='same'))\n",
        "fashion_model.add(LeakyReLU(alpha=0.1))\n",
        "fashion_model.add(MaxPooling2D(pool_size=(2, 2),padding='same'))\n",
        "fashion_model.add(Dropout(0.25))\n",
        "fashion_model.add(Conv2D(128, (3, 3), activation='linear',padding='same'))\n",
        "fashion_model.add(LeakyReLU(alpha=0.1))                  \n",
        "fashion_model.add(MaxPooling2D(pool_size=(2, 2),padding='same'))\n",
        "fashion_model.add(Dropout(0.4))\n",
        "fashion_model.add(Flatten())\n",
        "fashion_model.add(Dense(128, activation='linear'))\n",
        "fashion_model.add(LeakyReLU(alpha=0.1))           \n",
        "fashion_model.add(Dropout(0.3))\n",
        "fashion_model.add(Dense(num_classes, activation='softmax'))"
      ],
      "execution_count": 19,
      "outputs": [
        {
          "output_type": "stream",
          "text": [
            "WARNING:tensorflow:From /usr/local/lib/python3.6/dist-packages/keras/backend/tensorflow_backend.py:3445: calling dropout (from tensorflow.python.ops.nn_ops) with keep_prob is deprecated and will be removed in a future version.\n",
            "Instructions for updating:\n",
            "Please use `rate` instead of `keep_prob`. Rate should be set to `rate = 1 - keep_prob`.\n"
          ],
          "name": "stdout"
        }
      ]
    },
    {
      "metadata": {
        "id": "MN0YVmVvxMyQ",
        "colab_type": "code",
        "colab": {
          "base_uri": "https://localhost:8080/",
          "height": 745
        },
        "outputId": "8a6269e5-f9dd-4435-a5ec-31d5fc83deae"
      },
      "cell_type": "code",
      "source": [
        "fashion_model.summary()"
      ],
      "execution_count": 20,
      "outputs": [
        {
          "output_type": "stream",
          "text": [
            "_________________________________________________________________\n",
            "Layer (type)                 Output Shape              Param #   \n",
            "=================================================================\n",
            "conv2d_4 (Conv2D)            (None, 28, 28, 32)        320       \n",
            "_________________________________________________________________\n",
            "leaky_re_lu_5 (LeakyReLU)    (None, 28, 28, 32)        0         \n",
            "_________________________________________________________________\n",
            "max_pooling2d_4 (MaxPooling2 (None, 14, 14, 32)        0         \n",
            "_________________________________________________________________\n",
            "dropout_1 (Dropout)          (None, 14, 14, 32)        0         \n",
            "_________________________________________________________________\n",
            "conv2d_5 (Conv2D)            (None, 14, 14, 64)        18496     \n",
            "_________________________________________________________________\n",
            "leaky_re_lu_6 (LeakyReLU)    (None, 14, 14, 64)        0         \n",
            "_________________________________________________________________\n",
            "max_pooling2d_5 (MaxPooling2 (None, 7, 7, 64)          0         \n",
            "_________________________________________________________________\n",
            "dropout_2 (Dropout)          (None, 7, 7, 64)          0         \n",
            "_________________________________________________________________\n",
            "conv2d_6 (Conv2D)            (None, 7, 7, 128)         73856     \n",
            "_________________________________________________________________\n",
            "leaky_re_lu_7 (LeakyReLU)    (None, 7, 7, 128)         0         \n",
            "_________________________________________________________________\n",
            "max_pooling2d_6 (MaxPooling2 (None, 4, 4, 128)         0         \n",
            "_________________________________________________________________\n",
            "dropout_3 (Dropout)          (None, 4, 4, 128)         0         \n",
            "_________________________________________________________________\n",
            "flatten_2 (Flatten)          (None, 2048)              0         \n",
            "_________________________________________________________________\n",
            "dense_3 (Dense)              (None, 128)               262272    \n",
            "_________________________________________________________________\n",
            "leaky_re_lu_8 (LeakyReLU)    (None, 128)               0         \n",
            "_________________________________________________________________\n",
            "dropout_4 (Dropout)          (None, 128)               0         \n",
            "_________________________________________________________________\n",
            "dense_4 (Dense)              (None, 10)                1290      \n",
            "=================================================================\n",
            "Total params: 356,234\n",
            "Trainable params: 356,234\n",
            "Non-trainable params: 0\n",
            "_________________________________________________________________\n"
          ],
          "name": "stdout"
        }
      ]
    },
    {
      "metadata": {
        "id": "jkhdv7NRxMyw",
        "colab_type": "code",
        "colab": {}
      },
      "cell_type": "code",
      "source": [
        "fashion_model.compile(loss=keras.losses.categorical_crossentropy, optimizer=keras.optimizers.Adam(),metrics=['accuracy'])"
      ],
      "execution_count": 0,
      "outputs": []
    },
    {
      "metadata": {
        "id": "Yih0NjMJxMy_",
        "colab_type": "code",
        "colab": {
          "base_uri": "https://localhost:8080/",
          "height": 745
        },
        "outputId": "6ce684a3-a0ad-47e3-b133-dd0ce4b5cfc5"
      },
      "cell_type": "code",
      "source": [
        "fashion_train_dropout = fashion_model.fit(X_train, train_label, batch_size=batch_size,epochs=epochs,verbose=1,validation_data=(valid_X, valid_label))"
      ],
      "execution_count": 22,
      "outputs": [
        {
          "output_type": "stream",
          "text": [
            "Train on 48000 samples, validate on 12000 samples\n",
            "Epoch 1/20\n",
            "48000/48000 [==============================] - 10s 212us/step - loss: 0.6110 - acc: 0.7714 - val_loss: 0.3897 - val_acc: 0.8523\n",
            "Epoch 2/20\n",
            "48000/48000 [==============================] - 9s 196us/step - loss: 0.3824 - acc: 0.8593 - val_loss: 0.3517 - val_acc: 0.8689\n",
            "Epoch 3/20\n",
            "48000/48000 [==============================] - 9s 197us/step - loss: 0.3279 - acc: 0.8802 - val_loss: 0.2863 - val_acc: 0.8908\n",
            "Epoch 4/20\n",
            "48000/48000 [==============================] - 9s 196us/step - loss: 0.3050 - acc: 0.8870 - val_loss: 0.2972 - val_acc: 0.8909\n",
            "Epoch 5/20\n",
            "48000/48000 [==============================] - 9s 196us/step - loss: 0.2835 - acc: 0.8946 - val_loss: 0.2448 - val_acc: 0.9077\n",
            "Epoch 6/20\n",
            "48000/48000 [==============================] - 9s 193us/step - loss: 0.2672 - acc: 0.9010 - val_loss: 0.2565 - val_acc: 0.9022\n",
            "Epoch 7/20\n",
            "48000/48000 [==============================] - 9s 197us/step - loss: 0.2561 - acc: 0.9044 - val_loss: 0.2368 - val_acc: 0.9137\n",
            "Epoch 8/20\n",
            "48000/48000 [==============================] - 9s 197us/step - loss: 0.2460 - acc: 0.9090 - val_loss: 0.2307 - val_acc: 0.9160\n",
            "Epoch 9/20\n",
            "48000/48000 [==============================] - 9s 197us/step - loss: 0.2389 - acc: 0.9109 - val_loss: 0.2334 - val_acc: 0.9160\n",
            "Epoch 10/20\n",
            "48000/48000 [==============================] - 9s 196us/step - loss: 0.2336 - acc: 0.9130 - val_loss: 0.2162 - val_acc: 0.9205\n",
            "Epoch 11/20\n",
            "48000/48000 [==============================] - 9s 196us/step - loss: 0.2270 - acc: 0.9152 - val_loss: 0.2148 - val_acc: 0.9217\n",
            "Epoch 12/20\n",
            "48000/48000 [==============================] - 9s 197us/step - loss: 0.2210 - acc: 0.9163 - val_loss: 0.2200 - val_acc: 0.9203\n",
            "Epoch 13/20\n",
            "48000/48000 [==============================] - 9s 196us/step - loss: 0.2178 - acc: 0.9179 - val_loss: 0.2147 - val_acc: 0.9233\n",
            "Epoch 14/20\n",
            "48000/48000 [==============================] - 9s 196us/step - loss: 0.2179 - acc: 0.9175 - val_loss: 0.2289 - val_acc: 0.9146\n",
            "Epoch 15/20\n",
            "48000/48000 [==============================] - 9s 195us/step - loss: 0.2114 - acc: 0.9209 - val_loss: 0.2032 - val_acc: 0.9257\n",
            "Epoch 16/20\n",
            "48000/48000 [==============================] - 9s 197us/step - loss: 0.2069 - acc: 0.9207 - val_loss: 0.2162 - val_acc: 0.9226\n",
            "Epoch 17/20\n",
            "48000/48000 [==============================] - 9s 196us/step - loss: 0.2027 - acc: 0.9234 - val_loss: 0.2062 - val_acc: 0.9260\n",
            "Epoch 18/20\n",
            "48000/48000 [==============================] - 9s 197us/step - loss: 0.1991 - acc: 0.9240 - val_loss: 0.1994 - val_acc: 0.9297\n",
            "Epoch 19/20\n",
            "48000/48000 [==============================] - 9s 197us/step - loss: 0.1989 - acc: 0.9241 - val_loss: 0.2028 - val_acc: 0.9268\n",
            "Epoch 20/20\n",
            "48000/48000 [==============================] - 9s 196us/step - loss: 0.1963 - acc: 0.9249 - val_loss: 0.2101 - val_acc: 0.9243\n"
          ],
          "name": "stdout"
        }
      ]
    },
    {
      "metadata": {
        "id": "Veo_kJsvxMzW",
        "colab_type": "code",
        "colab": {
          "base_uri": "https://localhost:8080/",
          "height": 34
        },
        "outputId": "07a5f0ce-a7a9-410e-f50e-bbc792e427cf"
      },
      "cell_type": "code",
      "source": [
        "test_eval = fashion_model.evaluate(X_test, y_test_one_hot, verbose=1)"
      ],
      "execution_count": 24,
      "outputs": [
        {
          "output_type": "stream",
          "text": [
            "10000/10000 [==============================] - 1s 99us/step\n"
          ],
          "name": "stdout"
        }
      ]
    },
    {
      "metadata": {
        "id": "yNTJcjcjxMzu",
        "colab_type": "code",
        "colab": {
          "base_uri": "https://localhost:8080/",
          "height": 52
        },
        "outputId": "bb073e68-37bb-48f0-d248-31fb2fc3a667"
      },
      "cell_type": "code",
      "source": [
        "print('Test loss:', test_eval[0])\n",
        "print('Test accuracy:', test_eval[1])"
      ],
      "execution_count": 25,
      "outputs": [
        {
          "output_type": "stream",
          "text": [
            "Test loss: 0.22129144211411475\n",
            "Test accuracy: 0.9189\n"
          ],
          "name": "stdout"
        }
      ]
    },
    {
      "metadata": {
        "id": "1P_-xWLjxM0C",
        "colab_type": "code",
        "colab": {
          "base_uri": "https://localhost:8080/",
          "height": 543
        },
        "outputId": "85913446-4721-4fa9-8dcb-f47b89884d44"
      },
      "cell_type": "code",
      "source": [
        "accuracy = fashion_train_dropout.history['acc']\n",
        "val_accuracy = fashion_train_dropout.history['val_acc']\n",
        "loss = fashion_train_dropout.history['loss']\n",
        "val_loss = fashion_train_dropout.history['val_loss']\n",
        "epochs = range(len(accuracy))\n",
        "plt.plot(epochs, accuracy, 'r', label='Training accuracy')\n",
        "plt.plot(epochs, val_accuracy, 'b', label='Validation accuracy')\n",
        "plt.title('Training and validation accuracy')\n",
        "plt.legend()\n",
        "plt.figure()\n",
        "plt.plot(epochs, loss, 'r', label='Training loss')\n",
        "plt.plot(epochs, val_loss, 'b', label='Validation loss')\n",
        "plt.title('Training and validation loss')\n",
        "plt.legend()\n",
        "plt.show()"
      ],
      "execution_count": 27,
      "outputs": [
        {
          "output_type": "display_data",
          "data": {
            "image/png": "[encoded data removed]",
            "text/plain": [
              "<Figure size 432x288 with 1 Axes>"
            ]
          },
          "metadata": {
            "tags": []
          }
        },
        {
          "output_type": "display_data",
          "data": {
            "image/png": "[encoded data removed]",
            "text/plain": [
              "<Figure size 432x288 with 1 Axes>"
            ]
          },
          "metadata": {
            "tags": []
          }
        }
      ]
    },
    {
      "metadata": {
        "id": "xDPSD2oxxM0Q",
        "colab_type": "code",
        "colab": {
          "base_uri": "https://localhost:8080/",
          "height": 247
        },
        "outputId": "30bb066b-d77e-4f27-e693-8f5ed35ee091"
      },
      "cell_type": "code",
      "source": [
        "predicted_classes = fashion_model.predict(X_test)\n",
        "print(predicted_classes)"
      ],
      "execution_count": 28,
      "outputs": [
        {
          "output_type": "stream",
          "text": [
            "[[1.71521530e-11 8.20387758e-09 2.09151273e-11 ... 5.21711008e-05\n",
            "  7.41734868e-11 9.99947667e-01]\n",
            " [1.18796033e-05 4.37706607e-11 9.99932408e-01 ... 1.30575271e-12\n",
            "  7.66264049e-12 1.38656583e-13]\n",
            " [8.83419299e-17 1.00000000e+00 2.80654503e-18 ... 4.96770167e-25\n",
            "  3.52654626e-22 3.43218309e-22]\n",
            " ...\n",
            " [1.10064865e-11 1.01217032e-14 1.42527726e-11 ... 2.01655438e-13\n",
            "  1.00000000e+00 1.18423659e-14]\n",
            " [3.93089283e-10 1.00000000e+00 6.13044199e-11 ... 4.78915410e-13\n",
            "  7.26031214e-13 2.44711651e-12]\n",
            " [4.77316571e-05 5.42760120e-07 1.74093017e-04 ... 3.05739958e-02\n",
            "  4.85074194e-03 6.06216163e-05]]\n"
          ],
          "name": "stdout"
        }
      ]
    },
    {
      "metadata": {
        "id": "opVK-QJpxM0j",
        "colab_type": "code",
        "colab": {
          "base_uri": "https://localhost:8080/",
          "height": 34
        },
        "outputId": "7179cd0c-5214-4b5d-924e-54215849e037"
      },
      "cell_type": "code",
      "source": [
        "predicted_classes = np.argmax(np.round(predicted_classes),axis=1)\n",
        "predicted_classes.shape, y_test.shape"
      ],
      "execution_count": 29,
      "outputs": [
        {
          "output_type": "execute_result",
          "data": {
            "text/plain": [
              "((10000,), (10000,))"
            ]
          },
          "metadata": {
            "tags": []
          },
          "execution_count": 29
        }
      ]
    },
    {
      "metadata": {
        "id": "QPqV46UGxM0y",
        "colab_type": "code",
        "colab": {
          "base_uri": "https://localhost:8080/",
          "height": 314
        },
        "outputId": "4648b4ca-5069-436d-9ea2-83b55d045800"
      },
      "cell_type": "code",
      "source": [
        "correct = np.where(predicted_classes==y_test)[0]\n",
        "print(\"Found %d correct labels\" % len(correct))\n",
        "for i, correct in enumerate(correct[:9]):\n",
        "    plt.subplot(3,3,i+1)\n",
        "    plt.imshow(X_test[correct].reshape(28,28), cmap='rainbow', interpolation='none')\n",
        "    plt.title(\"Predicted {}, Class {}\".format(predicted_classes[correct], y_test[correct]))\n",
        "    plt.tight_layout()"
      ],
      "execution_count": 30,
      "outputs": [
        {
          "output_type": "stream",
          "text": [
            "Found 9160 correct labels\n"
          ],
          "name": "stdout"
        },
        {
          "output_type": "display_data",
          "data": {
            "image/png": "[encoded data removed]",
            "text/plain": [
              "<Figure size 432x288 with 8 Axes>"
            ]
          },
          "metadata": {
            "tags": []
          }
        }
      ]
    },
    {
      "metadata": {
        "id": "hCNQms27xM1L",
        "colab_type": "code",
        "colab": {
          "base_uri": "https://localhost:8080/",
          "height": 314
        },
        "outputId": "d33e50a7-9f4f-4a6b-a428-ab4d813fbb04"
      },
      "cell_type": "code",
      "source": [
        "incorrect = np.where(predicted_classes!=y_test)[0]\n",
        "print(\"Found %d incorrect labels\" % len(incorrect))\n",
        "for i, incorrect in enumerate(incorrect[:9]):\n",
        "    plt.subplot(3,3,i+1)\n",
        "    plt.imshow(X_test[incorrect].reshape(28,28), cmap='rainbow', interpolation='none')\n",
        "    plt.title(\"Predicted {}, Class {}\".format(predicted_classes[incorrect], y_test[incorrect]))\n",
        "    plt.tight_layout()"
      ],
      "execution_count": 31,
      "outputs": [
        {
          "output_type": "stream",
          "text": [
            "Found 840 incorrect labels\n"
          ],
          "name": "stdout"
        },
        {
          "output_type": "display_data",
          "data": {
            "image/png": "[encoded data removed]",
            "text/plain": [
              "<Figure size 432x288 with 8 Axes>"
            ]
          },
          "metadata": {
            "tags": []
          }
        }
      ]
    },
    {
      "metadata": {
        "id": "p7XiDxI2xM1a",
        "colab_type": "code",
        "colab": {
          "base_uri": "https://localhost:8080/",
          "height": 318
        },
        "outputId": "f803dafe-5c17-46f8-8787-765dedcbdee7"
      },
      "cell_type": "code",
      "source": [
        "from sklearn.metrics import classification_report\n",
        "target_names = [\"Class {}\".format(i) for i in range(num_classes)]\n",
        "print(classification_report(y_test, predicted_classes, target_names=target_names))"
      ],
      "execution_count": 32,
      "outputs": [
        {
          "output_type": "stream",
          "text": [
            "              precision    recall  f1-score   support\n",
            "\n",
            "     Class 0       0.78      0.89      0.83      1000\n",
            "     Class 1       0.99      0.99      0.99      1000\n",
            "     Class 2       0.91      0.84      0.87      1000\n",
            "     Class 3       0.94      0.91      0.93      1000\n",
            "     Class 4       0.84      0.91      0.87      1000\n",
            "     Class 5       0.99      0.98      0.98      1000\n",
            "     Class 6       0.80      0.72      0.76      1000\n",
            "     Class 7       0.95      0.98      0.97      1000\n",
            "     Class 8       0.99      0.98      0.98      1000\n",
            "     Class 9       0.98      0.96      0.97      1000\n",
            "\n",
            "   micro avg       0.92      0.92      0.92     10000\n",
            "   macro avg       0.92      0.92      0.92     10000\n",
            "weighted avg       0.92      0.92      0.92     10000\n",
            "\n"
          ],
          "name": "stdout"
        }
      ]
    }
  ]
}